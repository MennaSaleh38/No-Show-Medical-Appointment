{
 "cells": [
  {
   "cell_type": "markdown",
   "id": "69cb0f14",
   "metadata": {},
   "source": [
    "# Project: Investigate a Dataset (Medical Appointment No Shows)\n",
    "\n",
    "\n",
    "## Table of Contents\n",
    "<ul>\n",
    "<li><a href=\"#intro\">Introduction</a></li>\n",
    "<li><a href=\"#wrangling\">Data Wrangling</a></li>\n",
    "    <ul> \n",
    "      <li><a href=\"#remove\">Remove unneccassry columns,rows</a></li>\n",
    "      <li><a href=\"#change\">Changing column names</a></li> \n",
    "      <li><a href=\"#changedata\">Changing datatypes </a></li> \n",
    "       <li><a href=\"#add\">Adding new columns </a></li> \n",
    "    </ul>\n",
    "<li><a href=\"#eda\">Exploratory Data Analysis</a></li>\n",
    "    <ul>\n",
    "     <li><a href=\"#Q1\">Q1: Do patients with serious medical conditions affect the possibilty of a no-show?if yes-which has the most effect?\n",
    "    <li><a href=\"#Q2\"> Q2: Does sending SMS reminders help in decreasing the possibilty of a no-show happening?\n",
    "     <li><a href=\"#Q3\"> Q3: Does the patient who owns a scholarship tend to have less no-shows? \n",
    "    <li><a href=\"#Q4\">Q4: Is there a specific age group and gender that tends to make a no-show?\n",
    "    <li><a href=\"#Q5\">Q5: Does the difference between the scheduled day and appointment day have an impact on the no-show incident? \n",
    "    <li><a href=\"#Q6\">Q6:Is there a specific day where no-shows tend to happen?\n",
    "    <li><a href=\"#Q7\">Q7: Which neighbourhood has the highest no-show?\n",
    "<li><a href=\"#conclusions\">Conclusions</a></li>\n",
    "</ul>"
   ]
  },
  {
   "cell_type": "markdown",
   "id": "0530263b",
   "metadata": {},
   "source": [
    "<a id='intro'></a>\n",
    "## Introduction\n",
    "\n",
    ">  Welcome to my Investigate a Dataset Project. Here I will be analyzing data about Medical Appointment No Shows in a hospital in Brazil that states that 30% of  their patients end up not showing up. When a patient sets an appoitment can we predict if a patient will show up or not based on the previous No-Shows history provided in our dataset? Is it the patients fault or the hospitals fault? We will have clearer insights about all this after answering the following questions:\n",
    "\n",
    "- Q1: Do patients with serious medical conditions affect the possibilty of a no-show?if yes-which has the most effect?\n",
    "- Q2: Does sending SMS reminders help in decreasing the possibilty of a no-show happening?\n",
    "- Q3: Does the patient who owns a scholarship tend to have less no-shows? \n",
    "- Q4: Is there a specific age group and gender that tends to make a no-show?\n",
    "- Q5: Does the difference between the scheduled day and appointment day have an impact on the no-show incident? \n",
    "- Q6:Is there a specific day where no-shows tend to happen?\n",
    "- Q7: Which neighbourhood has the highest no-show?"
   ]
  },
  {
   "cell_type": "code",
   "execution_count": 1,
   "id": "e42b327e",
   "metadata": {},
   "outputs": [],
   "source": [
    "#importing libraries that we will be using in our analysis. \n",
    "\n",
    "import pandas as pd\n",
    "import numpy as np\n",
    "import matplotlib.pyplot as plt\n",
    "%matplotlib inline\n",
    "import seaborn as sns\n",
    "sns.set_style('darkgrid')\n"
   ]
  },
  {
   "cell_type": "markdown",
   "id": "756da416",
   "metadata": {},
   "source": [
    "<a id='wrangling'></a>\n",
    "## Data Wrangling\n",
    "\n",
    "> In this section of the report, I will load in the data,check what needs to be cleaned, trimmed,changed or added to help us have a better version for our next steps\n",
    "\n",
    "### General Properties"
   ]
  },
  {
   "cell_type": "code",
   "execution_count": 2,
   "id": "78daf03f",
   "metadata": {},
   "outputs": [
    {
     "data": {
      "text/html": [
       "<div>\n",
       "<style scoped>\n",
       "    .dataframe tbody tr th:only-of-type {\n",
       "        vertical-align: middle;\n",
       "    }\n",
       "\n",
       "    .dataframe tbody tr th {\n",
       "        vertical-align: top;\n",
       "    }\n",
       "\n",
       "    .dataframe thead th {\n",
       "        text-align: right;\n",
       "    }\n",
       "</style>\n",
       "<table border=\"1\" class=\"dataframe\">\n",
       "  <thead>\n",
       "    <tr style=\"text-align: right;\">\n",
       "      <th></th>\n",
       "      <th>PatientId</th>\n",
       "      <th>AppointmentID</th>\n",
       "      <th>Gender</th>\n",
       "      <th>ScheduledDay</th>\n",
       "      <th>AppointmentDay</th>\n",
       "      <th>Age</th>\n",
       "      <th>Neighbourhood</th>\n",
       "      <th>Scholarship</th>\n",
       "      <th>Hipertension</th>\n",
       "      <th>Diabetes</th>\n",
       "      <th>Alcoholism</th>\n",
       "      <th>Handcap</th>\n",
       "      <th>SMS_received</th>\n",
       "      <th>No-show</th>\n",
       "    </tr>\n",
       "  </thead>\n",
       "  <tbody>\n",
       "    <tr>\n",
       "      <th>0</th>\n",
       "      <td>2.987250e+13</td>\n",
       "      <td>5642903</td>\n",
       "      <td>F</td>\n",
       "      <td>2016-04-29T18:38:08Z</td>\n",
       "      <td>2016-04-29T00:00:00Z</td>\n",
       "      <td>62</td>\n",
       "      <td>JARDIM DA PENHA</td>\n",
       "      <td>0</td>\n",
       "      <td>1</td>\n",
       "      <td>0</td>\n",
       "      <td>0</td>\n",
       "      <td>0</td>\n",
       "      <td>0</td>\n",
       "      <td>No</td>\n",
       "    </tr>\n",
       "    <tr>\n",
       "      <th>1</th>\n",
       "      <td>5.589978e+14</td>\n",
       "      <td>5642503</td>\n",
       "      <td>M</td>\n",
       "      <td>2016-04-29T16:08:27Z</td>\n",
       "      <td>2016-04-29T00:00:00Z</td>\n",
       "      <td>56</td>\n",
       "      <td>JARDIM DA PENHA</td>\n",
       "      <td>0</td>\n",
       "      <td>0</td>\n",
       "      <td>0</td>\n",
       "      <td>0</td>\n",
       "      <td>0</td>\n",
       "      <td>0</td>\n",
       "      <td>No</td>\n",
       "    </tr>\n",
       "    <tr>\n",
       "      <th>2</th>\n",
       "      <td>4.262962e+12</td>\n",
       "      <td>5642549</td>\n",
       "      <td>F</td>\n",
       "      <td>2016-04-29T16:19:04Z</td>\n",
       "      <td>2016-04-29T00:00:00Z</td>\n",
       "      <td>62</td>\n",
       "      <td>MATA DA PRAIA</td>\n",
       "      <td>0</td>\n",
       "      <td>0</td>\n",
       "      <td>0</td>\n",
       "      <td>0</td>\n",
       "      <td>0</td>\n",
       "      <td>0</td>\n",
       "      <td>No</td>\n",
       "    </tr>\n",
       "    <tr>\n",
       "      <th>3</th>\n",
       "      <td>8.679512e+11</td>\n",
       "      <td>5642828</td>\n",
       "      <td>F</td>\n",
       "      <td>2016-04-29T17:29:31Z</td>\n",
       "      <td>2016-04-29T00:00:00Z</td>\n",
       "      <td>8</td>\n",
       "      <td>PONTAL DE CAMBURI</td>\n",
       "      <td>0</td>\n",
       "      <td>0</td>\n",
       "      <td>0</td>\n",
       "      <td>0</td>\n",
       "      <td>0</td>\n",
       "      <td>0</td>\n",
       "      <td>No</td>\n",
       "    </tr>\n",
       "    <tr>\n",
       "      <th>4</th>\n",
       "      <td>8.841186e+12</td>\n",
       "      <td>5642494</td>\n",
       "      <td>F</td>\n",
       "      <td>2016-04-29T16:07:23Z</td>\n",
       "      <td>2016-04-29T00:00:00Z</td>\n",
       "      <td>56</td>\n",
       "      <td>JARDIM DA PENHA</td>\n",
       "      <td>0</td>\n",
       "      <td>1</td>\n",
       "      <td>1</td>\n",
       "      <td>0</td>\n",
       "      <td>0</td>\n",
       "      <td>0</td>\n",
       "      <td>No</td>\n",
       "    </tr>\n",
       "  </tbody>\n",
       "</table>\n",
       "</div>"
      ],
      "text/plain": [
       "      PatientId  AppointmentID Gender          ScheduledDay  \\\n",
       "0  2.987250e+13        5642903      F  2016-04-29T18:38:08Z   \n",
       "1  5.589978e+14        5642503      M  2016-04-29T16:08:27Z   \n",
       "2  4.262962e+12        5642549      F  2016-04-29T16:19:04Z   \n",
       "3  8.679512e+11        5642828      F  2016-04-29T17:29:31Z   \n",
       "4  8.841186e+12        5642494      F  2016-04-29T16:07:23Z   \n",
       "\n",
       "         AppointmentDay  Age      Neighbourhood  Scholarship  Hipertension  \\\n",
       "0  2016-04-29T00:00:00Z   62    JARDIM DA PENHA            0             1   \n",
       "1  2016-04-29T00:00:00Z   56    JARDIM DA PENHA            0             0   \n",
       "2  2016-04-29T00:00:00Z   62      MATA DA PRAIA            0             0   \n",
       "3  2016-04-29T00:00:00Z    8  PONTAL DE CAMBURI            0             0   \n",
       "4  2016-04-29T00:00:00Z   56    JARDIM DA PENHA            0             1   \n",
       "\n",
       "   Diabetes  Alcoholism  Handcap  SMS_received No-show  \n",
       "0         0           0        0             0      No  \n",
       "1         0           0        0             0      No  \n",
       "2         0           0        0             0      No  \n",
       "3         0           0        0             0      No  \n",
       "4         1           0        0             0      No  "
      ]
     },
     "execution_count": 2,
     "metadata": {},
     "output_type": "execute_result"
    }
   ],
   "source": [
    "#Loading file to a dataframe 'df'\n",
    "\n",
    "df= pd.read_csv('noshowappointments-kagglev2-may-2016.csv')\n",
    "\n",
    "#Reading an overview from our dataset using the first 5 rows in our dataframe\n",
    "\n",
    "df.head()"
   ]
  },
  {
   "cell_type": "code",
   "execution_count": 3,
   "id": "ef622b5c",
   "metadata": {},
   "outputs": [
    {
     "name": "stdout",
     "output_type": "stream",
     "text": [
      "<class 'pandas.core.frame.DataFrame'>\n",
      "RangeIndex: 110527 entries, 0 to 110526\n",
      "Data columns (total 14 columns):\n",
      " #   Column          Non-Null Count   Dtype  \n",
      "---  ------          --------------   -----  \n",
      " 0   PatientId       110527 non-null  float64\n",
      " 1   AppointmentID   110527 non-null  int64  \n",
      " 2   Gender          110527 non-null  object \n",
      " 3   ScheduledDay    110527 non-null  object \n",
      " 4   AppointmentDay  110527 non-null  object \n",
      " 5   Age             110527 non-null  int64  \n",
      " 6   Neighbourhood   110527 non-null  object \n",
      " 7   Scholarship     110527 non-null  int64  \n",
      " 8   Hipertension    110527 non-null  int64  \n",
      " 9   Diabetes        110527 non-null  int64  \n",
      " 10  Alcoholism      110527 non-null  int64  \n",
      " 11  Handcap         110527 non-null  int64  \n",
      " 12  SMS_received    110527 non-null  int64  \n",
      " 13  No-show         110527 non-null  object \n",
      "dtypes: float64(1), int64(8), object(5)\n",
      "memory usage: 11.8+ MB\n"
     ]
    }
   ],
   "source": [
    "#So let's find out more about our columns and understand our datatypes and have a general overview about our dataframe\n",
    "\n",
    "df.info()"
   ]
  },
  {
   "cell_type": "markdown",
   "id": "4d2d6610",
   "metadata": {},
   "source": [
    "**From the above we can find the following:**\n",
    "1) We have 14 columns and 110527 rows\n",
    "\n",
    "2) We have no null values in our dataset\n",
    "\n",
    "3) ScheduledDay,AppointmentDay are both strings, we need to change them to datetime, also wouldn't it be better if we added a new column called 'waiting_days' which would be the difference between the scheduled day and appointment day to get better insights\n",
    "\n",
    "4) We can change all column names to lowercase letters for consistency and also to make it easier to write a code and we can change 'no-show' to 'no_show' by replacing the dash with an underscore\n",
    "\n",
    "5) 'No-show' column has a different encoding...'No' means patient showed up, 'Yes' means patient didn't show up. \n",
    "\n",
    "6) We don't need the PatientID , appointmentID in our analysis so it's better if we omit them. \n",
    "\n",
    "7) The columns(Scholarship,Hipertension,Diabetes,Handcap,SMS_received) are ints(0,1). Let's find more about them in the next code to check if there is something more than just 0/1.And also we can change their datatype to bool to make analysis easier.\n",
    "\n",
    "8) Also how about adding a new category called age group to get better insights regarding the age of patients"
   ]
  },
  {
   "cell_type": "code",
   "execution_count": 4,
   "id": "f220edd1",
   "metadata": {},
   "outputs": [
    {
     "data": {
      "text/plain": [
       "PatientId          62299\n",
       "AppointmentID     110527\n",
       "Gender                 2\n",
       "ScheduledDay      103549\n",
       "AppointmentDay        27\n",
       "Age                  104\n",
       "Neighbourhood         81\n",
       "Scholarship            2\n",
       "Hipertension           2\n",
       "Diabetes               2\n",
       "Alcoholism             2\n",
       "Handcap                5\n",
       "SMS_received           2\n",
       "No-show                2\n",
       "dtype: int64"
      ]
     },
     "execution_count": 4,
     "metadata": {},
     "output_type": "execute_result"
    }
   ],
   "source": [
    "# Checking the unique values we have for each column\n",
    "\n",
    "df.nunique()"
   ]
  },
  {
   "cell_type": "markdown",
   "id": "2b28488f",
   "metadata": {},
   "source": [
    "**So we can conclude from here:**\n",
    "(Gender,Scholarship,Hipertension,Diabetes,Alcoholism,Sms_recieved,no-show) columns all have 2 unique values except for ***Handcap*** has 5 unqiue values.\n",
    "\n",
    ">According to this [link](https://www.kaggle.com/datasets/joniarroba/noshowappointments/discussion/29699) , the author of the dataset states that the values from 0 to 5 in Handcap means that the patient has more than 1 disability. *eg: 2 means 2 disabilites , 4 means 4 disabilties and 0 means no disabilities*.\n",
    "In that case here we will leave the Handcap as ints. And change the others to boolean values."
   ]
  },
  {
   "cell_type": "code",
   "execution_count": 5,
   "id": "fdc4e78b",
   "metadata": {},
   "outputs": [
    {
     "data": {
      "text/plain": [
       "0"
      ]
     },
     "execution_count": 5,
     "metadata": {},
     "output_type": "execute_result"
    }
   ],
   "source": [
    "#Checking for duplicated\n",
    "\n",
    "df.duplicated().sum() "
   ]
  },
  {
   "cell_type": "markdown",
   "id": "811c0218",
   "metadata": {},
   "source": [
    "Great! we don't have any duplicates in our dataset\n",
    "Also wouldn't it give us better insights if we made an age group for the range of ages we have? Okay so I will need to have a closer look on our data(the min and max)"
   ]
  },
  {
   "cell_type": "code",
   "execution_count": 6,
   "id": "85f80de9",
   "metadata": {},
   "outputs": [
    {
     "data": {
      "text/html": [
       "<div>\n",
       "<style scoped>\n",
       "    .dataframe tbody tr th:only-of-type {\n",
       "        vertical-align: middle;\n",
       "    }\n",
       "\n",
       "    .dataframe tbody tr th {\n",
       "        vertical-align: top;\n",
       "    }\n",
       "\n",
       "    .dataframe thead th {\n",
       "        text-align: right;\n",
       "    }\n",
       "</style>\n",
       "<table border=\"1\" class=\"dataframe\">\n",
       "  <thead>\n",
       "    <tr style=\"text-align: right;\">\n",
       "      <th></th>\n",
       "      <th>PatientId</th>\n",
       "      <th>AppointmentID</th>\n",
       "      <th>Age</th>\n",
       "      <th>Scholarship</th>\n",
       "      <th>Hipertension</th>\n",
       "      <th>Diabetes</th>\n",
       "      <th>Alcoholism</th>\n",
       "      <th>Handcap</th>\n",
       "      <th>SMS_received</th>\n",
       "    </tr>\n",
       "  </thead>\n",
       "  <tbody>\n",
       "    <tr>\n",
       "      <th>count</th>\n",
       "      <td>1.105270e+05</td>\n",
       "      <td>1.105270e+05</td>\n",
       "      <td>110527.000000</td>\n",
       "      <td>110527.000000</td>\n",
       "      <td>110527.000000</td>\n",
       "      <td>110527.000000</td>\n",
       "      <td>110527.000000</td>\n",
       "      <td>110527.000000</td>\n",
       "      <td>110527.000000</td>\n",
       "    </tr>\n",
       "    <tr>\n",
       "      <th>mean</th>\n",
       "      <td>1.474963e+14</td>\n",
       "      <td>5.675305e+06</td>\n",
       "      <td>37.088874</td>\n",
       "      <td>0.098266</td>\n",
       "      <td>0.197246</td>\n",
       "      <td>0.071865</td>\n",
       "      <td>0.030400</td>\n",
       "      <td>0.022248</td>\n",
       "      <td>0.321026</td>\n",
       "    </tr>\n",
       "    <tr>\n",
       "      <th>std</th>\n",
       "      <td>2.560949e+14</td>\n",
       "      <td>7.129575e+04</td>\n",
       "      <td>23.110205</td>\n",
       "      <td>0.297675</td>\n",
       "      <td>0.397921</td>\n",
       "      <td>0.258265</td>\n",
       "      <td>0.171686</td>\n",
       "      <td>0.161543</td>\n",
       "      <td>0.466873</td>\n",
       "    </tr>\n",
       "    <tr>\n",
       "      <th>min</th>\n",
       "      <td>3.921784e+04</td>\n",
       "      <td>5.030230e+06</td>\n",
       "      <td>-1.000000</td>\n",
       "      <td>0.000000</td>\n",
       "      <td>0.000000</td>\n",
       "      <td>0.000000</td>\n",
       "      <td>0.000000</td>\n",
       "      <td>0.000000</td>\n",
       "      <td>0.000000</td>\n",
       "    </tr>\n",
       "    <tr>\n",
       "      <th>25%</th>\n",
       "      <td>4.172614e+12</td>\n",
       "      <td>5.640286e+06</td>\n",
       "      <td>18.000000</td>\n",
       "      <td>0.000000</td>\n",
       "      <td>0.000000</td>\n",
       "      <td>0.000000</td>\n",
       "      <td>0.000000</td>\n",
       "      <td>0.000000</td>\n",
       "      <td>0.000000</td>\n",
       "    </tr>\n",
       "    <tr>\n",
       "      <th>50%</th>\n",
       "      <td>3.173184e+13</td>\n",
       "      <td>5.680573e+06</td>\n",
       "      <td>37.000000</td>\n",
       "      <td>0.000000</td>\n",
       "      <td>0.000000</td>\n",
       "      <td>0.000000</td>\n",
       "      <td>0.000000</td>\n",
       "      <td>0.000000</td>\n",
       "      <td>0.000000</td>\n",
       "    </tr>\n",
       "    <tr>\n",
       "      <th>75%</th>\n",
       "      <td>9.439172e+13</td>\n",
       "      <td>5.725524e+06</td>\n",
       "      <td>55.000000</td>\n",
       "      <td>0.000000</td>\n",
       "      <td>0.000000</td>\n",
       "      <td>0.000000</td>\n",
       "      <td>0.000000</td>\n",
       "      <td>0.000000</td>\n",
       "      <td>1.000000</td>\n",
       "    </tr>\n",
       "    <tr>\n",
       "      <th>max</th>\n",
       "      <td>9.999816e+14</td>\n",
       "      <td>5.790484e+06</td>\n",
       "      <td>115.000000</td>\n",
       "      <td>1.000000</td>\n",
       "      <td>1.000000</td>\n",
       "      <td>1.000000</td>\n",
       "      <td>1.000000</td>\n",
       "      <td>4.000000</td>\n",
       "      <td>1.000000</td>\n",
       "    </tr>\n",
       "  </tbody>\n",
       "</table>\n",
       "</div>"
      ],
      "text/plain": [
       "          PatientId  AppointmentID            Age    Scholarship  \\\n",
       "count  1.105270e+05   1.105270e+05  110527.000000  110527.000000   \n",
       "mean   1.474963e+14   5.675305e+06      37.088874       0.098266   \n",
       "std    2.560949e+14   7.129575e+04      23.110205       0.297675   \n",
       "min    3.921784e+04   5.030230e+06      -1.000000       0.000000   \n",
       "25%    4.172614e+12   5.640286e+06      18.000000       0.000000   \n",
       "50%    3.173184e+13   5.680573e+06      37.000000       0.000000   \n",
       "75%    9.439172e+13   5.725524e+06      55.000000       0.000000   \n",
       "max    9.999816e+14   5.790484e+06     115.000000       1.000000   \n",
       "\n",
       "        Hipertension       Diabetes     Alcoholism        Handcap  \\\n",
       "count  110527.000000  110527.000000  110527.000000  110527.000000   \n",
       "mean        0.197246       0.071865       0.030400       0.022248   \n",
       "std         0.397921       0.258265       0.171686       0.161543   \n",
       "min         0.000000       0.000000       0.000000       0.000000   \n",
       "25%         0.000000       0.000000       0.000000       0.000000   \n",
       "50%         0.000000       0.000000       0.000000       0.000000   \n",
       "75%         0.000000       0.000000       0.000000       0.000000   \n",
       "max         1.000000       1.000000       1.000000       4.000000   \n",
       "\n",
       "        SMS_received  \n",
       "count  110527.000000  \n",
       "mean        0.321026  \n",
       "std         0.466873  \n",
       "min         0.000000  \n",
       "25%         0.000000  \n",
       "50%         0.000000  \n",
       "75%         1.000000  \n",
       "max         1.000000  "
      ]
     },
     "execution_count": 6,
     "metadata": {},
     "output_type": "execute_result"
    }
   ],
   "source": [
    "#Checking the information and characteristics of the Age column to know more about it. \n",
    "\n",
    "df.describe()"
   ]
  },
  {
   "cell_type": "markdown",
   "id": "4e794247",
   "metadata": {},
   "source": [
    "Something looks wrong.The min in Age is -1. And it doesn't make sense to have  an age with a negative number . So we will need to drop the rows that have the age=-1 \n",
    "\n",
    "Also the appointmentday column did catch my eye in something. That after the T letter the time is set to 00:00:00\n",
    "So let's check if it's all set to time 00:00:00"
   ]
  },
  {
   "cell_type": "code",
   "execution_count": 7,
   "id": "8684b3a4",
   "metadata": {},
   "outputs": [
    {
     "data": {
      "text/plain": [
       "2016-06-06T00:00:00Z    4692\n",
       "2016-05-16T00:00:00Z    4613\n",
       "2016-05-09T00:00:00Z    4520\n",
       "2016-05-30T00:00:00Z    4514\n",
       "2016-06-08T00:00:00Z    4479\n",
       "2016-05-11T00:00:00Z    4474\n",
       "2016-06-01T00:00:00Z    4464\n",
       "2016-06-07T00:00:00Z    4416\n",
       "2016-05-12T00:00:00Z    4394\n",
       "2016-05-02T00:00:00Z    4376\n",
       "2016-05-18T00:00:00Z    4373\n",
       "2016-05-17T00:00:00Z    4372\n",
       "2016-06-02T00:00:00Z    4310\n",
       "2016-05-10T00:00:00Z    4308\n",
       "2016-05-31T00:00:00Z    4279\n",
       "2016-05-05T00:00:00Z    4273\n",
       "2016-05-19T00:00:00Z    4270\n",
       "2016-05-03T00:00:00Z    4256\n",
       "2016-05-04T00:00:00Z    4168\n",
       "2016-06-03T00:00:00Z    4090\n",
       "2016-05-24T00:00:00Z    4009\n",
       "2016-05-13T00:00:00Z    3987\n",
       "2016-05-25T00:00:00Z    3909\n",
       "2016-05-06T00:00:00Z    3879\n",
       "2016-05-20T00:00:00Z    3828\n",
       "2016-04-29T00:00:00Z    3235\n",
       "2016-05-14T00:00:00Z      39\n",
       "Name: AppointmentDay, dtype: int64"
      ]
     },
     "execution_count": 7,
     "metadata": {},
     "output_type": "execute_result"
    }
   ],
   "source": [
    "df['AppointmentDay'].str.strip().value_counts()"
   ]
  },
  {
   "cell_type": "markdown",
   "id": "b34da945",
   "metadata": {},
   "source": [
    "Looks like the appointment time is all set to 0, in that case here we will need to trim off the timestamp in both appointment day and scheduled day which ofcourse can be a limitation in our analysis."
   ]
  },
  {
   "cell_type": "markdown",
   "id": "05583f5d",
   "metadata": {},
   "source": [
    "#### Wrapping up: \n",
    "Here's the list of things we will need to fix in our dataset:\n",
    "\n",
    "1) **Removing unnecassry columns and rows** Remove the 'PatientId','AppointmentID' columns, Remove the unneccessary rows in Age \n",
    "\n",
    "2) **Change column name:** Change all column names to lowercase letters and change from no-show to no_show\n",
    "\n",
    "3) **Change DataTypes:** Change datatypes of the Scholarship,Hipertension,Diabetes,Alcoholism,SMS_received,change data type of appointment day and scheduled day and also trim unneccasry data in both columns\n",
    "\n",
    "4) **Adding New Columns:** Adding Age Group Column, Number of Days Column(difference between appointment and scheduled days)"
   ]
  },
  {
   "cell_type": "markdown",
   "id": "70c95dea",
   "metadata": {},
   "source": [
    "## Cleaning our Data \n",
    "\n",
    "<a id='remove'></a>\n",
    "\n",
    "### Remove the 'PatientId','AppointmentID' columns, Remove the unneccessary rows in Age \n",
    "Removing the PatientID and AppointmentID columns from our dataset"
   ]
  },
  {
   "cell_type": "code",
   "execution_count": 8,
   "id": "783b98ac",
   "metadata": {},
   "outputs": [],
   "source": [
    "#Dropping the PatientId and AppointmentID colums\n",
    "\n",
    "df.drop(['PatientId','AppointmentID'],axis=1,inplace=True)"
   ]
  },
  {
   "cell_type": "code",
   "execution_count": 9,
   "id": "47a7b6be",
   "metadata": {},
   "outputs": [
    {
     "data": {
      "text/html": [
       "<div>\n",
       "<style scoped>\n",
       "    .dataframe tbody tr th:only-of-type {\n",
       "        vertical-align: middle;\n",
       "    }\n",
       "\n",
       "    .dataframe tbody tr th {\n",
       "        vertical-align: top;\n",
       "    }\n",
       "\n",
       "    .dataframe thead th {\n",
       "        text-align: right;\n",
       "    }\n",
       "</style>\n",
       "<table border=\"1\" class=\"dataframe\">\n",
       "  <thead>\n",
       "    <tr style=\"text-align: right;\">\n",
       "      <th></th>\n",
       "      <th>Gender</th>\n",
       "      <th>ScheduledDay</th>\n",
       "      <th>AppointmentDay</th>\n",
       "      <th>Age</th>\n",
       "      <th>Neighbourhood</th>\n",
       "      <th>Scholarship</th>\n",
       "      <th>Hipertension</th>\n",
       "      <th>Diabetes</th>\n",
       "      <th>Alcoholism</th>\n",
       "      <th>Handcap</th>\n",
       "      <th>SMS_received</th>\n",
       "      <th>No-show</th>\n",
       "    </tr>\n",
       "  </thead>\n",
       "  <tbody>\n",
       "    <tr>\n",
       "      <th>0</th>\n",
       "      <td>F</td>\n",
       "      <td>2016-04-29T18:38:08Z</td>\n",
       "      <td>2016-04-29T00:00:00Z</td>\n",
       "      <td>62</td>\n",
       "      <td>JARDIM DA PENHA</td>\n",
       "      <td>0</td>\n",
       "      <td>1</td>\n",
       "      <td>0</td>\n",
       "      <td>0</td>\n",
       "      <td>0</td>\n",
       "      <td>0</td>\n",
       "      <td>No</td>\n",
       "    </tr>\n",
       "  </tbody>\n",
       "</table>\n",
       "</div>"
      ],
      "text/plain": [
       "  Gender          ScheduledDay        AppointmentDay  Age    Neighbourhood  \\\n",
       "0      F  2016-04-29T18:38:08Z  2016-04-29T00:00:00Z   62  JARDIM DA PENHA   \n",
       "\n",
       "   Scholarship  Hipertension  Diabetes  Alcoholism  Handcap  SMS_received  \\\n",
       "0            0             1         0           0        0             0   \n",
       "\n",
       "  No-show  \n",
       "0      No  "
      ]
     },
     "execution_count": 9,
     "metadata": {},
     "output_type": "execute_result"
    }
   ],
   "source": [
    "#Checking that our columns are correctly dropped\n",
    "\n",
    "df.head(1)"
   ]
  },
  {
   "cell_type": "code",
   "execution_count": 10,
   "id": "c96832a4",
   "metadata": {},
   "outputs": [
    {
     "data": {
      "text/html": [
       "<div>\n",
       "<style scoped>\n",
       "    .dataframe tbody tr th:only-of-type {\n",
       "        vertical-align: middle;\n",
       "    }\n",
       "\n",
       "    .dataframe tbody tr th {\n",
       "        vertical-align: top;\n",
       "    }\n",
       "\n",
       "    .dataframe thead th {\n",
       "        text-align: right;\n",
       "    }\n",
       "</style>\n",
       "<table border=\"1\" class=\"dataframe\">\n",
       "  <thead>\n",
       "    <tr style=\"text-align: right;\">\n",
       "      <th></th>\n",
       "      <th>Gender</th>\n",
       "      <th>ScheduledDay</th>\n",
       "      <th>AppointmentDay</th>\n",
       "      <th>Age</th>\n",
       "      <th>Neighbourhood</th>\n",
       "      <th>Scholarship</th>\n",
       "      <th>Hipertension</th>\n",
       "      <th>Diabetes</th>\n",
       "      <th>Alcoholism</th>\n",
       "      <th>Handcap</th>\n",
       "      <th>SMS_received</th>\n",
       "      <th>No-show</th>\n",
       "    </tr>\n",
       "  </thead>\n",
       "  <tbody>\n",
       "    <tr>\n",
       "      <th>99832</th>\n",
       "      <td>F</td>\n",
       "      <td>2016-06-06T08:58:13Z</td>\n",
       "      <td>2016-06-06T00:00:00Z</td>\n",
       "      <td>-1</td>\n",
       "      <td>ROMÃO</td>\n",
       "      <td>0</td>\n",
       "      <td>0</td>\n",
       "      <td>0</td>\n",
       "      <td>0</td>\n",
       "      <td>0</td>\n",
       "      <td>0</td>\n",
       "      <td>No</td>\n",
       "    </tr>\n",
       "  </tbody>\n",
       "</table>\n",
       "</div>"
      ],
      "text/plain": [
       "      Gender          ScheduledDay        AppointmentDay  Age Neighbourhood  \\\n",
       "99832      F  2016-06-06T08:58:13Z  2016-06-06T00:00:00Z   -1         ROMÃO   \n",
       "\n",
       "       Scholarship  Hipertension  Diabetes  Alcoholism  Handcap  SMS_received  \\\n",
       "99832            0             0         0           0        0             0   \n",
       "\n",
       "      No-show  \n",
       "99832      No  "
      ]
     },
     "execution_count": 10,
     "metadata": {},
     "output_type": "execute_result"
    }
   ],
   "source": [
    "#Getting rows with age less than 0\n",
    "\n",
    "df.query('Age < 0')   "
   ]
  },
  {
   "cell_type": "code",
   "execution_count": 11,
   "id": "b6a26d38",
   "metadata": {},
   "outputs": [],
   "source": [
    "#Removing these rows from dataframe \n",
    "\n",
    "df.drop(index=99832,inplace=True)"
   ]
  },
  {
   "cell_type": "code",
   "execution_count": 12,
   "id": "805147d8",
   "metadata": {},
   "outputs": [
    {
     "data": {
      "text/plain": [
       "count    110526.000000\n",
       "mean         37.089219\n",
       "std          23.110026\n",
       "min           0.000000\n",
       "25%          18.000000\n",
       "50%          37.000000\n",
       "75%          55.000000\n",
       "max         115.000000\n",
       "Name: Age, dtype: float64"
      ]
     },
     "execution_count": 12,
     "metadata": {},
     "output_type": "execute_result"
    }
   ],
   "source": [
    "df['Age'].describe()   #Confirming that we no longer have -1 as an age anymore"
   ]
  },
  {
   "cell_type": "markdown",
   "id": "f8f556c6",
   "metadata": {},
   "source": [
    "<a id='change'></a>\n",
    "### Change column names:\n",
    "\n",
    "Change all column names to lowercase letters and change all spaces and dashes to underscores"
   ]
  },
  {
   "cell_type": "code",
   "execution_count": 13,
   "id": "92c80390",
   "metadata": {},
   "outputs": [],
   "source": [
    "#Lambda function takes column name and turns it to lower case and replaces the '-' to '_'\n",
    "\n",
    "df.rename(columns=lambda x: x.strip().lower().replace(\"-\",\"_\"), inplace=True)"
   ]
  },
  {
   "cell_type": "code",
   "execution_count": 14,
   "id": "a8400bf2",
   "metadata": {},
   "outputs": [
    {
     "data": {
      "text/html": [
       "<div>\n",
       "<style scoped>\n",
       "    .dataframe tbody tr th:only-of-type {\n",
       "        vertical-align: middle;\n",
       "    }\n",
       "\n",
       "    .dataframe tbody tr th {\n",
       "        vertical-align: top;\n",
       "    }\n",
       "\n",
       "    .dataframe thead th {\n",
       "        text-align: right;\n",
       "    }\n",
       "</style>\n",
       "<table border=\"1\" class=\"dataframe\">\n",
       "  <thead>\n",
       "    <tr style=\"text-align: right;\">\n",
       "      <th></th>\n",
       "      <th>gender</th>\n",
       "      <th>scheduledday</th>\n",
       "      <th>appointmentday</th>\n",
       "      <th>age</th>\n",
       "      <th>neighbourhood</th>\n",
       "      <th>scholarship</th>\n",
       "      <th>hipertension</th>\n",
       "      <th>diabetes</th>\n",
       "      <th>alcoholism</th>\n",
       "      <th>handcap</th>\n",
       "      <th>sms_received</th>\n",
       "      <th>no_show</th>\n",
       "    </tr>\n",
       "  </thead>\n",
       "  <tbody>\n",
       "    <tr>\n",
       "      <th>0</th>\n",
       "      <td>F</td>\n",
       "      <td>2016-04-29T18:38:08Z</td>\n",
       "      <td>2016-04-29T00:00:00Z</td>\n",
       "      <td>62</td>\n",
       "      <td>JARDIM DA PENHA</td>\n",
       "      <td>0</td>\n",
       "      <td>1</td>\n",
       "      <td>0</td>\n",
       "      <td>0</td>\n",
       "      <td>0</td>\n",
       "      <td>0</td>\n",
       "      <td>No</td>\n",
       "    </tr>\n",
       "  </tbody>\n",
       "</table>\n",
       "</div>"
      ],
      "text/plain": [
       "  gender          scheduledday        appointmentday  age    neighbourhood  \\\n",
       "0      F  2016-04-29T18:38:08Z  2016-04-29T00:00:00Z   62  JARDIM DA PENHA   \n",
       "\n",
       "   scholarship  hipertension  diabetes  alcoholism  handcap  sms_received  \\\n",
       "0            0             1         0           0        0             0   \n",
       "\n",
       "  no_show  \n",
       "0      No  "
      ]
     },
     "execution_count": 14,
     "metadata": {},
     "output_type": "execute_result"
    }
   ],
   "source": [
    "df.head(1)  #double-checking that our code worked"
   ]
  },
  {
   "cell_type": "markdown",
   "id": "a2b92503",
   "metadata": {},
   "source": [
    "To avoid any confusion No show encoding is different . Yes: Means the patient did not show up\n",
    "No: Means the Patient did show up "
   ]
  },
  {
   "cell_type": "markdown",
   "id": "356b0c22",
   "metadata": {},
   "source": [
    "<a id='changedata'></a>\n",
    "### Changing DataTypes:\n",
    " Change datatypes of the Scholarship,Hipertension,Diabetes,Alcoholism,SMS_received, change data type of appointment date and scheduled day"
   ]
  },
  {
   "cell_type": "code",
   "execution_count": 15,
   "id": "0997fdb1",
   "metadata": {},
   "outputs": [],
   "source": [
    "# Let's assign a list of columns that we want to change to boolean datatype\n",
    "\n",
    "columns=['scholarship','hipertension','diabetes','alcoholism','sms_received']\n",
    "\n",
    "# Iterating through each column and changing the type to bool.\n",
    "\n",
    "for column in columns:\n",
    "    df[column]=df[column].astype('bool')"
   ]
  },
  {
   "cell_type": "code",
   "execution_count": 16,
   "id": "3ab3db6b",
   "metadata": {},
   "outputs": [
    {
     "data": {
      "text/plain": [
       "10    110526\n",
       "Name: scheduledday, dtype: int64"
      ]
     },
     "execution_count": 16,
     "metadata": {},
     "output_type": "execute_result"
    }
   ],
   "source": [
    "#changing both scheduledday and appointmentday to datetime \n",
    "\n",
    "#First, we only need the day,month and year. So we will need to trim the rest of the string with timestamp\n",
    "#Let's have a look at scheduleddate to know what exaclty needs to be trimmed \n",
    "\n",
    "index=df['scheduledday'].str.find('T').value_counts()\n",
    "\n",
    "#Ok so we will need to find the position of letter 'T'\n",
    "\n",
    "index\n"
   ]
  },
  {
   "cell_type": "markdown",
   "id": "b6cf3b4e",
   "metadata": {},
   "source": [
    "we will need to trim after index number 10 "
   ]
  },
  {
   "cell_type": "code",
   "execution_count": 17,
   "id": "f1ba5eb0",
   "metadata": {},
   "outputs": [
    {
     "data": {
      "text/plain": [
       "10    110526\n",
       "Name: appointmentday, dtype: int64"
      ]
     },
     "execution_count": 17,
     "metadata": {},
     "output_type": "execute_result"
    }
   ],
   "source": [
    "#Lets check the appointment date \n",
    "\n",
    "index=df['appointmentday'].str.find('T') .value_counts()\n",
    "\n",
    "index\n"
   ]
  },
  {
   "cell_type": "markdown",
   "id": "f0437625",
   "metadata": {},
   "source": [
    "Same goes for the appointment day"
   ]
  },
  {
   "cell_type": "code",
   "execution_count": 18,
   "id": "8d3b6b3b",
   "metadata": {},
   "outputs": [],
   "source": [
    "#Trimming strings after index 10 \n",
    "\n",
    "df['scheduledday']=df['scheduledday'].str[:10]\n",
    "df['appointmentday']=df['appointmentday'].str[:10]"
   ]
  },
  {
   "cell_type": "code",
   "execution_count": 19,
   "id": "0f64a36c",
   "metadata": {},
   "outputs": [],
   "source": [
    "#Changing the new rows to datetime\n",
    "\n",
    "df['scheduledday']=pd.to_datetime(df['scheduledday'])\n",
    "\n",
    "df['appointmentday']=pd.to_datetime(df['appointmentday'])\n"
   ]
  },
  {
   "cell_type": "code",
   "execution_count": 20,
   "id": "c7127a2e",
   "metadata": {},
   "outputs": [
    {
     "data": {
      "text/plain": [
       "0   2016-04-29\n",
       "1   2016-04-29\n",
       "2   2016-04-29\n",
       "3   2016-04-29\n",
       "4   2016-04-29\n",
       "Name: scheduledday, dtype: datetime64[ns]"
      ]
     },
     "execution_count": 20,
     "metadata": {},
     "output_type": "execute_result"
    }
   ],
   "source": [
    "df['scheduledday'].head() #Checking the trimming and conversion were made successfully"
   ]
  },
  {
   "cell_type": "code",
   "execution_count": 21,
   "id": "5b80bdad",
   "metadata": {},
   "outputs": [
    {
     "data": {
      "text/plain": [
       "0   2016-04-29\n",
       "1   2016-04-29\n",
       "2   2016-04-29\n",
       "3   2016-04-29\n",
       "4   2016-04-29\n",
       "Name: appointmentday, dtype: datetime64[ns]"
      ]
     },
     "execution_count": 21,
     "metadata": {},
     "output_type": "execute_result"
    }
   ],
   "source": [
    "df['appointmentday'].head() #Checking the trimming and coversion were made successfully"
   ]
  },
  {
   "cell_type": "code",
   "execution_count": 22,
   "id": "5ffe7484",
   "metadata": {},
   "outputs": [
    {
     "name": "stdout",
     "output_type": "stream",
     "text": [
      "<class 'pandas.core.frame.DataFrame'>\n",
      "Int64Index: 110526 entries, 0 to 110526\n",
      "Data columns (total 12 columns):\n",
      " #   Column          Non-Null Count   Dtype         \n",
      "---  ------          --------------   -----         \n",
      " 0   gender          110526 non-null  object        \n",
      " 1   scheduledday    110526 non-null  datetime64[ns]\n",
      " 2   appointmentday  110526 non-null  datetime64[ns]\n",
      " 3   age             110526 non-null  int64         \n",
      " 4   neighbourhood   110526 non-null  object        \n",
      " 5   scholarship     110526 non-null  bool          \n",
      " 6   hipertension    110526 non-null  bool          \n",
      " 7   diabetes        110526 non-null  bool          \n",
      " 8   alcoholism      110526 non-null  bool          \n",
      " 9   handcap         110526 non-null  int64         \n",
      " 10  sms_received    110526 non-null  bool          \n",
      " 11  no_show         110526 non-null  object        \n",
      "dtypes: bool(5), datetime64[ns](2), int64(2), object(3)\n",
      "memory usage: 7.3+ MB\n"
     ]
    }
   ],
   "source": [
    "df.info() #Checking that our data was converted correctly."
   ]
  },
  {
   "cell_type": "markdown",
   "id": "21e67f74",
   "metadata": {},
   "source": [
    "<a id='add'></a>\n",
    "### Adding New Columns:\n",
    "\n",
    "Adding Age Group Column, Number of Days Column(difference between appointment and scheduled days)\n"
   ]
  },
  {
   "cell_type": "markdown",
   "id": "b37e341b",
   "metadata": {},
   "source": [
    "#### Age Group Column: \n",
    "We will add a new column to our dataframe called 'age_group'. The age group column will have 4 categories and will have a dtype of object(string). \n",
    " The 4 categories are:\n",
    " - Children (0-14 years)\n",
    " - Youth (15-24 years)\n",
    " - Adults (25-64 years)\n",
    " - Seniors(65 years and above)\n"
   ]
  },
  {
   "cell_type": "code",
   "execution_count": 23,
   "id": "e0744a22",
   "metadata": {},
   "outputs": [],
   "source": [
    "# first let's add a list with our new category names\n",
    "\n",
    "category_names=['Children','Youth','Adults','Seniors']\n",
    "\n",
    "#second  we will add another list with our category edges, meaning the  end edge of every category we have.\n",
    "\n",
    "category_edges=[0,14,24,64,115] # I used the max value we have in the 'age' column from the description code above"
   ]
  },
  {
   "cell_type": "code",
   "execution_count": 24,
   "id": "d2b27a33",
   "metadata": {},
   "outputs": [],
   "source": [
    "df['age_group'] = pd.cut(df['age'], category_edges, labels=category_names)  #using the cut funtion to categorize our dataset"
   ]
  },
  {
   "cell_type": "markdown",
   "id": "2355263a",
   "metadata": {},
   "source": [
    "The code works well except for one part if we checked the data of patients with age 0 it shows null values in age group. "
   ]
  },
  {
   "cell_type": "code",
   "execution_count": 25,
   "id": "d63b0383",
   "metadata": {},
   "outputs": [
    {
     "data": {
      "text/plain": [
       "59        NaN\n",
       "63        NaN\n",
       "64        NaN\n",
       "65        NaN\n",
       "67        NaN\n",
       "         ... \n",
       "110345    NaN\n",
       "110346    NaN\n",
       "110454    NaN\n",
       "110460    NaN\n",
       "110507    NaN\n",
       "Name: age_group, Length: 3539, dtype: category\n",
       "Categories (4, object): ['Children' < 'Youth' < 'Adults' < 'Seniors']"
      ]
     },
     "execution_count": 25,
     "metadata": {},
     "output_type": "execute_result"
    }
   ],
   "source": [
    "df.query('age==0')['age_group'] "
   ]
  },
  {
   "cell_type": "markdown",
   "id": "1207de21",
   "metadata": {},
   "source": [
    "So we will fill all the null values where age=0 "
   ]
  },
  {
   "cell_type": "code",
   "execution_count": 26,
   "id": "9730c1bb",
   "metadata": {},
   "outputs": [],
   "source": [
    "df['age_group']=df['age_group'].fillna('Children')  #filling null values with 'Children'"
   ]
  },
  {
   "cell_type": "code",
   "execution_count": 27,
   "id": "7b1b2022",
   "metadata": {},
   "outputs": [
    {
     "data": {
      "text/plain": [
       "0"
      ]
     },
     "execution_count": 27,
     "metadata": {},
     "output_type": "execute_result"
    }
   ],
   "source": [
    "#Checking if there are any nulls values in age_group\n",
    "\n",
    "df['age_group'].isnull().sum()"
   ]
  },
  {
   "cell_type": "markdown",
   "id": "bfd9154f",
   "metadata": {},
   "source": [
    "Great! No null values. Let's proceed to the next step"
   ]
  },
  {
   "cell_type": "markdown",
   "id": "fd2f0513",
   "metadata": {},
   "source": [
    "#### Waiting Days Column:\n",
    "\n",
    "In this column it will calculate the days difference between  the appointment day(The day of the actual appointment) and  the scheduled day(The day when the patient registered for an appointment). I will call this column days_difference "
   ]
  },
  {
   "cell_type": "code",
   "execution_count": 28,
   "id": "ad92b3cb",
   "metadata": {},
   "outputs": [],
   "source": [
    "df['waiting_days'] =(df['appointmentday']-df['scheduledday']).dt.days"
   ]
  },
  {
   "cell_type": "code",
   "execution_count": 29,
   "id": "f1f556b5",
   "metadata": {},
   "outputs": [
    {
     "data": {
      "text/plain": [
       "count    110526.000000\n",
       "mean         10.183794\n",
       "std          15.255034\n",
       "min          -6.000000\n",
       "25%           0.000000\n",
       "50%           4.000000\n",
       "75%          15.000000\n",
       "max         179.000000\n",
       "Name: waiting_days, dtype: float64"
      ]
     },
     "execution_count": 29,
     "metadata": {},
     "output_type": "execute_result"
    }
   ],
   "source": [
    "df['waiting_days'].describe() #lets have a closer look at our new column"
   ]
  },
  {
   "cell_type": "markdown",
   "id": "d184597b",
   "metadata": {},
   "source": [
    "The min day difference is a negative number which ofcourse doesn't make sense. As appointment days should be after scheduled days and not before. So we will have to discard them"
   ]
  },
  {
   "cell_type": "code",
   "execution_count": 30,
   "id": "44c6ffb0",
   "metadata": {},
   "outputs": [],
   "source": [
    "#Assiging negative_days_index to fetch the negative indexes of the negative values in the day difference column\n",
    "negative_days_diff=df.query('waiting_days <0').index\n",
    "#Removing the negative indexes\n",
    "df.drop(index=negative_days_diff,axis=index,inplace=True)"
   ]
  },
  {
   "cell_type": "code",
   "execution_count": 31,
   "id": "f69f0fd8",
   "metadata": {},
   "outputs": [
    {
     "name": "stdout",
     "output_type": "stream",
     "text": [
      "<class 'pandas.core.frame.DataFrame'>\n",
      "Int64Index: 110521 entries, 0 to 110526\n",
      "Data columns (total 14 columns):\n",
      " #   Column          Non-Null Count   Dtype         \n",
      "---  ------          --------------   -----         \n",
      " 0   gender          110521 non-null  object        \n",
      " 1   scheduledday    110521 non-null  datetime64[ns]\n",
      " 2   appointmentday  110521 non-null  datetime64[ns]\n",
      " 3   age             110521 non-null  int64         \n",
      " 4   neighbourhood   110521 non-null  object        \n",
      " 5   scholarship     110521 non-null  bool          \n",
      " 6   hipertension    110521 non-null  bool          \n",
      " 7   diabetes        110521 non-null  bool          \n",
      " 8   alcoholism      110521 non-null  bool          \n",
      " 9   handcap         110521 non-null  int64         \n",
      " 10  sms_received    110521 non-null  bool          \n",
      " 11  no_show         110521 non-null  object        \n",
      " 12  age_group       110521 non-null  category      \n",
      " 13  waiting_days    110521 non-null  int64         \n",
      "dtypes: bool(5), category(1), datetime64[ns](2), int64(3), object(3)\n",
      "memory usage: 8.2+ MB\n"
     ]
    }
   ],
   "source": [
    "df.info()"
   ]
  },
  {
   "cell_type": "markdown",
   "id": "3fd38214",
   "metadata": {},
   "source": [
    "We have a total of *110521* entries and *14* columns. So our unwated rows were removed successfully.\n",
    "\n",
    "In the next step, I will divide our dataframe into two dataframes. One with the data of the patients who showed up and the other with the people who did not show up"
   ]
  },
  {
   "cell_type": "code",
   "execution_count": 32,
   "id": "c8b68505",
   "metadata": {},
   "outputs": [],
   "source": [
    "df_no_show=df[df['no_show']==\"Yes\"]\n",
    "\n",
    "df_show=df[df['no_show']==\"No\"]"
   ]
  },
  {
   "cell_type": "markdown",
   "id": "8710b5d5",
   "metadata": {},
   "source": [
    "<a id='eda'></a>\n",
    "## Exploratory Data Analysis:\n",
    ">In this section we will be digging deeper  in our dataframe and answer all questions we introduced before by exploring interesting visuals and by then we will be having a full conclusion to our analysis\n",
    "\n"
   ]
  },
  {
   "cell_type": "markdown",
   "id": "0aab86ce",
   "metadata": {},
   "source": [
    "<a id='Q1'></a>\n",
    "### Q1: Do patients with serious medical conditions affect the possibilty of a no-show?if yes-which has the most effect?\n",
    "\n"
   ]
  },
  {
   "cell_type": "code",
   "execution_count": 33,
   "id": "b4ec0dcf",
   "metadata": {},
   "outputs": [
    {
     "data": {
      "image/png": "[encoded data removed]",
      "text/plain": [
       "<Figure size 432x288 with 1 Axes>"
      ]
     },
     "metadata": {},
     "output_type": "display_data"
    }
   ],
   "source": [
    "#We have 4 different medical conditions hypertension,diabetes,alcoholism,handcap\n",
    "\n",
    "# In this code here I will work on medical contions hypertension,diabetes,alcoholism\n",
    "\n",
    "labels=['Showed up','No show'] #x-axis labels \n",
    "legends=['HyperTension','Diabetes','Alcoholism'] #setting a list for the legend\n",
    "x=np.arange(len(labels))   #x-co-ords we will set it using numpy array with the length of the labels to add on x-axis\n",
    "width=0.2\n",
    "\n",
    "#Getting the sum of patients who showed-up and did not show up for each medical condition\n",
    "\n",
    "y1=df.groupby('no_show')['hipertension'].sum()\n",
    "y2=df.groupby('no_show')['diabetes'].sum()\n",
    "y3=df.groupby('no_show')['alcoholism'].sum()\n",
    "\n",
    "\n",
    "#plotting our bar chart \n",
    "plt.bar(x-width,y1,width);\n",
    "plt.bar(x,y2,width);\n",
    "plt.bar(x+width,y3,width);\n",
    "\n",
    "\n",
    "plt.title(\"No-Show status of patients with serious medical conditions\",fontsize=14);\n",
    "plt.xlabel(\"No-Show Status\",fontsize=13)\n",
    "plt.ylabel(\"Number of Patiens\",fontsize=13);\n",
    "plt.xticks(x,labels);\n",
    "plt.legend(legends);\n"
   ]
  },
  {
   "cell_type": "markdown",
   "id": "b758a3c5",
   "metadata": {},
   "source": [
    " ***Findings:*** What we can find from this chart that the bar lengths for every medical condition of the people who showed-up are a lot more than those who didn't show up.\n",
    "\n",
    "So people with serious medical conditions are more likely to show-up than not to. And hypertension has the highest amount of patients in both cases.\n",
    "\n",
    "No we will check more about handicapped patients \n",
    "NB: Our next graph will actually show as well the patients with no disbility. But it would be better not to discard them. To have a full picture whether or not patients with no disabilties tend to have more no-shows.\n"
   ]
  },
  {
   "cell_type": "code",
   "execution_count": 34,
   "id": "99566361",
   "metadata": {},
   "outputs": [
    {
     "data": {
      "image/png": "[encoded data removed]",
      "text/plain": [
       "<Figure size 432x288 with 1 Axes>"
      ]
     },
     "metadata": {},
     "output_type": "display_data"
    }
   ],
   "source": [
    "no_show_handcap=df_no_show['handcap'].value_counts()   #No-Show Handicapped patients \n",
    "handcap_show=df_show['handcap'].value_counts()         #Handincapped patients who showed up\n",
    "x=np.arange(5) # We have 5 different condtions for handicapped patiens [0 means no disability]\n",
    "plt.plot(x,handcap_show);\n",
    "plt.plot(x,no_show_handcap,marker='o');\n",
    "plt.xticks(np.arange(min(x),max(x)+1,1.0))   #Starting from minimum number which is 0 till  maximum 4 and taking one step. \n",
    "plt.legend(['Show','No Show']);\n",
    "\n",
    "plt.title('Number of Handicapped Patients VS No-Show Status',fontsize=14);\n",
    "plt.xlabel('Number of disabilties',fontsize=12);\n",
    "plt.ylabel('Number of Patients',fontsize=12);"
   ]
  },
  {
   "cell_type": "markdown",
   "id": "98dc295c",
   "metadata": {},
   "source": [
    "***Findings:*** Patients who do not have a disability tend to make a no-show more than the people having disabilties.\n",
    "Patients with  disabilties make 0 no-shows."
   ]
  },
  {
   "cell_type": "code",
   "execution_count": 35,
   "id": "5ce2b780",
   "metadata": {},
   "outputs": [
    {
     "data": {
      "image/png": "[encoded data removed]",
      "text/plain": [
       "<Figure size 432x288 with 1 Axes>"
      ]
     },
     "metadata": {},
     "output_type": "display_data"
    }
   ],
   "source": [
    "#A closer look onto the no-show patients with special medical conditions: [hypertension,alcoholism,diabetes]\n",
    "# This graph here I will depend on showing the percentage rather than the count\n",
    "\n",
    "#Patients with hypertension\n",
    "count1= df_no_show['hipertension'].sum()\n",
    "total= df_no_show['hipertension'].count()\n",
    "per1=count1/total\n",
    "\n",
    "#patients with alcoholism\n",
    "# we will not need to calcualte the total again as they all have the same total\n",
    "\n",
    "count2=df_no_show['diabetes'].sum()\n",
    "per2=count2/total\n",
    "\n",
    "#patients with diabetes\n",
    "\n",
    "count3=df_no_show['alcoholism'].sum()\n",
    "per3=count3/total\n",
    "\n",
    "#Adding my data in a dictionary to make it easier for plotting\n",
    "\n",
    "data={'Hypertension':per1,'Diabetes':per2,'Alcoholism':per3}\n",
    "xlabels=list(data.keys())  #labels for our xaxis\n",
    "values=list(data.values()) #values of each bar \n",
    "\n",
    "#plotting our graphs\n",
    "\n",
    "plt.bar(xlabels,values);\n",
    "\n",
    "plt.title( 'Percentage of no-show in each medical condition',fontsize=14)\n",
    "plt.xlabel('Medical Conditions',fontsize=12)\n",
    "plt.ylabel('Percentage',fontsize=12);"
   ]
  },
  {
   "cell_type": "markdown",
   "id": "e0d0f8fe",
   "metadata": {},
   "source": [
    "<a id='Q2'></a>\n",
    "###  Q2: Does sending SMS reminders help in decreasing the possibilty of a no-show happening?"
   ]
  },
  {
   "cell_type": "code",
   "execution_count": 36,
   "id": "3ddeb497",
   "metadata": {},
   "outputs": [
    {
     "data": {
      "image/png": "[encoded data removed]",
      "text/plain": [
       "<Figure size 432x288 with 1 Axes>"
      ]
     },
     "metadata": {},
     "output_type": "display_data"
    }
   ],
   "source": [
    "#First bar shows the patients who showed up - those who received and did not receive a message \n",
    "show_sms=df_show['sms_received'].value_counts()\n",
    "\n",
    "#Second bar shows the patients who did not show up -those who received a message and those who did not\n",
    "no_show_sms=df_no_show['sms_received'].value_counts() \n",
    "\n",
    "labels=['SMS Not Received ','SMS Received']   #Setting our x-axis labels using a list\n",
    "xaxis=np.arange(len(labels))                  # Setting an array for the xaxis using numpy with the length of labels\n",
    "\n",
    "fig,ax=plt.subplots()\n",
    "\n",
    "bar1=plt.bar(xaxis,show_sms,width);                    #first barchart in blue \n",
    "bar2=plt.bar(xaxis+width,no_show_sms,width)               #second barchart in orange \n",
    "\n",
    "\n",
    "plt.legend(['Show','No Show']);\n",
    "plt.xticks(xaxis,labels,horizontalalignment='left'); \n",
    "plt.title('Count of Patients(Show Vs No show) and their SMS receiving status',fontsize=14);\n",
    "plt.xlabel('SMS Status',fontsize=12);\n",
    "plt.ylabel('Count of Patients',fontsize=12);\n",
    "\n",
    "ax.bar_label(bar1,padding=3);  #Showing data labels \n",
    "ax.bar_label(bar2,padding=3);  #Showing data labels "
   ]
  },
  {
   "cell_type": "markdown",
   "id": "1afa3522",
   "metadata": {},
   "source": [
    "***Findings:*** The graph here shows that there is a huge number of patients(625029) who did not receive a message yet they did show up compared to the people who did not show up whether they did receive a message or not.\n",
    "\n",
    "The number of patients that did not show up and haven't received a message are more than those who received a message. "
   ]
  },
  {
   "cell_type": "markdown",
   "id": "44a955b0",
   "metadata": {},
   "source": [
    "<a id='Q3'></a>\n",
    "### Q3: Does the patient who owns a scholarship tend to have less no-shows?"
   ]
  },
  {
   "cell_type": "code",
   "execution_count": 37,
   "id": "ffe56c83",
   "metadata": {},
   "outputs": [
    {
     "data": {
      "image/png": "[encoded data removed]",
      "text/plain": [
       "<Figure size 432x288 with 1 Axes>"
      ]
     },
     "metadata": {},
     "output_type": "display_data"
    }
   ],
   "source": [
    "#First bar in blue will show patients that showed up to their appointment whether they have a scholarship or not \n",
    "\n",
    "show_scholar=df_show['scholarship'].value_counts()\n",
    "\n",
    "#Second bar in orange will show patients that did not show up to their appointment whether they a have a scholarship or not\n",
    "\n",
    "no_show_scholar=df_no_show['scholarship'].value_counts()\n",
    "\n",
    "labels=['No Scholarship','Scholarship']\n",
    "x=np.arange(len(labels));\n",
    "\n",
    "fig,ax=plt.subplots();\n",
    "\n",
    "bar1=plt.bar(xaxis,show_scholar,width);                   \n",
    "bar2=plt.bar(xaxis+width,no_show_scholar,width);         \n",
    "\n",
    "plt.title('Count of Patients(Show VS No Show) and their scholarship status',fontsize=14);\n",
    "plt.xlabel('Scholarship Status',fontsize=12);\n",
    "plt.ylabel('Count of Patients',fontsize=12)\n",
    "plt.legend(['Show','No Show']);\n",
    "plt.xticks(x,labels,horizontalalignment='left');\n",
    "\n",
    "ax.bar_label(bar1,padding=3);\n",
    "ax.bar_label(bar2,padding=3);"
   ]
  },
  {
   "cell_type": "markdown",
   "id": "327283c6",
   "metadata": {},
   "source": [
    "***Findings:*** From the graph we can find that a large number of patients who showed up do not have a scholarship.\n",
    "\n",
    "Patients who did not show up and do not have a scholarship are more than those who didn't show up and own a scholarship."
   ]
  },
  {
   "cell_type": "markdown",
   "id": "541181d5",
   "metadata": {},
   "source": [
    "<a id='Q4'></a>\n",
    "### Q4: Is there a specific age group and gender that tends to make a no-show?"
   ]
  },
  {
   "cell_type": "code",
   "execution_count": 38,
   "id": "68679760",
   "metadata": {},
   "outputs": [
    {
     "data": {
      "image/png": "[encoded data removed]",
      "text/plain": [
       "<Figure size 432x288 with 1 Axes>"
      ]
     },
     "metadata": {},
     "output_type": "display_data"
    }
   ],
   "source": [
    "#First we will start by age group\n",
    "\n",
    "no_show_age=df_no_show['age_group'].value_counts()\n",
    "\n",
    "labels=list(no_show_age.index)  #Getting labels names from Series of Age Group we created \n",
    "x=np.arange(len(labels))\n",
    "\n",
    "bar=plt.bar(x,no_show_age);\n",
    "\n",
    "\n",
    "plt.xticks(x,labels,fontsize=11);\n",
    "plt.title('Age Group Vs No-Show Status',fontsize=14);\n",
    "plt.xlabel('Age Group',fontsize=12);\n",
    "plt.ylabel('Count of Patients',fontsize=12);"
   ]
  },
  {
   "cell_type": "markdown",
   "id": "d7cf08c6",
   "metadata": {},
   "source": [
    "***Findings:*** Adults have the highest count of no-shows\n",
    "while Seniors have the least count of  no shows. \n",
    "\n",
    "We'll dig in deeper in the adults age group to know more about the ages that tend to no-show \n",
    "\n",
    "NB: Adults are from 25 to 64 years"
   ]
  },
  {
   "cell_type": "code",
   "execution_count": 39,
   "id": "92beaf9f",
   "metadata": {},
   "outputs": [
    {
     "data": {
      "image/png": "[encoded data removed]",
      "text/plain": [
       "<Figure size 432x288 with 1 Axes>"
      ]
     },
     "metadata": {},
     "output_type": "display_data"
    }
   ],
   "source": [
    "adults=df_no_show.query('age_group== \"Adults\"')  #Filtering with the adults age group\n",
    "\n",
    "#plotting the graph\n",
    "y=adults['age'].value_counts()   #count for each age\n",
    "x=list(y.index)                  #value_counts() results with a series. So we only need the indexes for the xaxis labels.\n",
    "plt.scatter(x,y);\n",
    ";\n",
    "plt.title('Count of No-Show accoring to Patients age',fontsize=14);\n",
    "plt.xlabel('Age',fontsize=12);\n",
    "plt.ylabel('Count of Patients',fontsize=12);"
   ]
  },
  {
   "cell_type": "markdown",
   "id": "01d64e7f",
   "metadata": {},
   "source": [
    "***Findings:***  We can see that the more the age increases the less no-show happens. So maybe adults from the age 25 till 40 tend to have higher no-shows"
   ]
  },
  {
   "cell_type": "code",
   "execution_count": 40,
   "id": "a2433599",
   "metadata": {},
   "outputs": [
    {
     "data": {
      "image/png": "[encoded data removed]",
      "text/plain": [
       "<Figure size 432x288 with 1 Axes>"
      ]
     },
     "metadata": {},
     "output_type": "display_data"
    }
   ],
   "source": [
    "# Then we will check by gender.\n",
    "\n",
    "\n",
    "no_show_gender=df_no_show['gender'].value_counts()  #count of each female and male \n",
    "\n",
    "labels= ['Female','Male']   #x-axis labels \n",
    "\n",
    "x=list(no_show_gender.index)   #x-coords. From value_counts() return a series. so we only need the index\n",
    "\n",
    "bar=plt.bar(x,no_show_gender);\n",
    "\n",
    "plt.xticks(x,labels,fontsize=12);\n",
    "\n",
    "plt.title('Gender VS No-Show status',fontsize=14);\n",
    "plt.xlabel('Gender',fontsize=12);\n",
    "plt.ylabel('Count of Patients',fontsize=12);"
   ]
  },
  {
   "cell_type": "markdown",
   "id": "7a74bd05",
   "metadata": {},
   "source": [
    "***Findings:*** This graph shows here that females tend not to show more than males. "
   ]
  },
  {
   "cell_type": "markdown",
   "id": "a6efc624",
   "metadata": {},
   "source": [
    "Next we'll check which age group in every gender has more no-show incidents "
   ]
  },
  {
   "cell_type": "code",
   "execution_count": 41,
   "id": "6aebc8ee",
   "metadata": {},
   "outputs": [
    {
     "data": {
      "text/plain": [
       "age_group\n",
       "Children    2374\n",
       "Youth       2501\n",
       "Adults      8200\n",
       "Seniors     1516\n",
       "Name: no_show, dtype: int64"
      ]
     },
     "execution_count": 41,
     "metadata": {},
     "output_type": "execute_result"
    }
   ],
   "source": [
    "#Grouping by both gender and age Group \n",
    "\n",
    "gender_group=df_no_show.groupby(['gender','age_group'])['no_show'].count() \n",
    "gender_group['F']     #Filtering by gender='F'"
   ]
  },
  {
   "cell_type": "code",
   "execution_count": 42,
   "id": "e230d5a6",
   "metadata": {
    "scrolled": true
   },
   "outputs": [
    {
     "data": {
      "text/plain": [
       "age_group\n",
       "Children    2551\n",
       "Youth       1037\n",
       "Adults      3419\n",
       "Seniors      716\n",
       "Name: no_show, dtype: int64"
      ]
     },
     "execution_count": 42,
     "metadata": {},
     "output_type": "execute_result"
    }
   ],
   "source": [
    "gender_group['M'] #Filtering by gender='M'"
   ]
  },
  {
   "cell_type": "markdown",
   "id": "cf577287",
   "metadata": {},
   "source": [
    "Female adults have  the most noshow incidents and Male adults have the most no show incidents \n",
    "\n",
    "Next we'll check this output  in a graph:"
   ]
  },
  {
   "cell_type": "code",
   "execution_count": 43,
   "id": "0e5043eb",
   "metadata": {},
   "outputs": [
    {
     "data": {
      "image/png": "[encoded data removed]",
      "text/plain": [
       "<Figure size 432x288 with 1 Axes>"
      ]
     },
     "metadata": {},
     "output_type": "display_data"
    }
   ],
   "source": [
    "labels=list(gender_group['F'].index)   #Gettings labels from series index. \n",
    "x=np.arange(len(labels))              # x-corrods a numpy array with the length of labels list\n",
    "\n",
    "bar1=plt.bar(x,gender_group['F'],width); \n",
    "bar2=plt.bar(x+width,gender_group['M'],width);\n",
    "\n",
    "plt.legend(['Female','Male']);\n",
    "plt.xticks(x,labels);\n",
    "plt.title('Counts by Age Group and Gender',fontsize=14);\n",
    "plt.ylabel('Proportion');\n",
    "plt.xlabel('Age Group');"
   ]
  },
  {
   "cell_type": "markdown",
   "id": "1956b831",
   "metadata": {},
   "source": [
    "<a id='Q5'></a>\n",
    "### Q5: Does the difference between the scheduled day and appointment day have an impact on the no-show incident? "
   ]
  },
  {
   "cell_type": "code",
   "execution_count": 44,
   "id": "782108cd",
   "metadata": {
    "scrolled": true
   },
   "outputs": [
    {
     "data": {
      "image/png": "[encoded data removed]",
      "text/plain": [
       "<Figure size 432x288 with 1 Axes>"
      ]
     },
     "metadata": {},
     "output_type": "display_data"
    }
   ],
   "source": [
    "y=df_show['waiting_days'].value_counts()  #Creating a series with unique waiting days of people who showed-up\n",
    "x=np.arange(len(y.index))  #xco-ords=length of list of series .\n",
    "plt.plot(x,y);    # We are going to draw a line plot to show correlation\n",
    "plt.title('Patients Showing up Vs Waiting Days ');\n",
    "plt.xlabel('Number of Days');\n",
    "plt.ylabel('Number of Patiens');\n",
    "plt.xticks(np.arange(min(x), max(x),10));"
   ]
  },
  {
   "cell_type": "markdown",
   "id": "fc513ffc",
   "metadata": {},
   "source": [
    "**Findings:** This graph relationship here has a negative correlation. \n",
    "The lesser the waiting days the more the people are showing up. \n",
    "\n",
    "0 waiting days have a lot of patients showing up , while it's almost zero when it reaches 35 days."
   ]
  },
  {
   "cell_type": "code",
   "execution_count": 45,
   "id": "2de31566",
   "metadata": {},
   "outputs": [
    {
     "data": {
      "image/png": "[encoded data removed]",
      "text/plain": [
       "<Figure size 432x288 with 1 Axes>"
      ]
     },
     "metadata": {},
     "output_type": "display_data"
    }
   ],
   "source": [
    "#we will repeat the same steps here for the patients who did not show up \n",
    "\n",
    "y=df_no_show['waiting_days'].value_counts()  \n",
    "x=np.arange(len(y.index))\n",
    "plt.plot(x,y);\n",
    "plt.title('Patients Not Showing up Vs Waiting Days');\n",
    "plt.xlabel('Number of Days');\n",
    "plt.ylabel('Number of Patiens');\n",
    "plt.xticks(np.arange(min(x),max(x),10));"
   ]
  },
  {
   "cell_type": "markdown",
   "id": "0e828566",
   "metadata": {},
   "source": [
    "***Findings:*** This graph also has a negative correlation relationship.\n",
    "\n",
    "While this graph here actually shows that for example 25 waiting day have more no-showing patients than the ones who showedup. "
   ]
  },
  {
   "cell_type": "code",
   "execution_count": 46,
   "id": "912efea8",
   "metadata": {},
   "outputs": [
    {
     "data": {
      "text/plain": [
       "15"
      ]
     },
     "execution_count": 46,
     "metadata": {},
     "output_type": "execute_result"
    }
   ],
   "source": [
    "#Let's check here the average waiting day that the hospital normally gives to people who did not show up \n",
    "\n",
    "Average_waiting_days=df_no_show['waiting_days'].mean()\n",
    "\n",
    "int(Average_waiting_days)"
   ]
  },
  {
   "cell_type": "code",
   "execution_count": 47,
   "id": "9a9e6e9e",
   "metadata": {},
   "outputs": [
    {
     "data": {
      "text/plain": [
       "502"
      ]
     },
     "execution_count": 47,
     "metadata": {},
     "output_type": "execute_result"
    }
   ],
   "source": [
    "#The average waiting days is 15 . now let's check how many patients did not show up  after waiting 15 days.\n",
    "df_no_show.query('waiting_days==15')['no_show'].count()"
   ]
  },
  {
   "cell_type": "markdown",
   "id": "89b1bc55",
   "metadata": {},
   "source": [
    "502 patients did not show up when waiting for 15 days for their appointment. Which makes us think that the hospital needs to minimize its waiting days."
   ]
  },
  {
   "cell_type": "markdown",
   "id": "db9ed6ee",
   "metadata": {},
   "source": [
    "<a id='Q6'></a>\n",
    "### Q6:Is there a specific day where no-shows tend to happen? "
   ]
  },
  {
   "cell_type": "code",
   "execution_count": 48,
   "id": "9c2bf8e6",
   "metadata": {},
   "outputs": [
    {
     "data": {
      "image/png": "[encoded data removed]",
      "text/plain": [
       "<Figure size 432x288 with 1 Axes>"
      ]
     },
     "metadata": {},
     "output_type": "display_data"
    }
   ],
   "source": [
    "#First let's convert our appointment days to DayName rather than just dates\n",
    "# We will be working on both dataframes\n",
    "\n",
    "Day_no_show=df_no_show['appointmentday'].dt.day_name()  #Assigning Day with the day names of all days where patients did not show up\n",
    "Day_show=df_show['appointmentday'].dt.day_name()        #Another one but with patients who did show up.  \n",
    "\n",
    "y=Day_no_show.value_counts(sort=True);\n",
    "\n",
    "labels=list(y.index)\n",
    "x=np.arange(len(labels))\n",
    "\n",
    "                  \n",
    "plt.bar(x,y);         \n",
    "\n",
    "plt.title('Count of Patiens No-Show according to day of week',fontsize=14);\n",
    "plt.xlabel('Days',fontsize=12);\n",
    "plt.ylabel('Count of Patients',fontsize=12)\n",
    "\n",
    "plt.xticks(x,labels);\n"
   ]
  },
  {
   "cell_type": "markdown",
   "id": "d96a9c90",
   "metadata": {},
   "source": [
    "***Findings:*** It shows here that Tuesday and Wednesday are one of the highest days where no-shows tend to happen. Saturday is the least .\n",
    "\n",
    "It really isn't an indicator. If we could dig in deeper to the hour of day to know when is the most no-show occuring in the day. But our dataset does not provide with the time of the appointment. "
   ]
  },
  {
   "cell_type": "markdown",
   "id": "9b02313e",
   "metadata": {},
   "source": [
    "<a id='Q7'></a>\n",
    "### Q7: Which neighbourhood has the highest no show?"
   ]
  },
  {
   "cell_type": "code",
   "execution_count": 49,
   "id": "ae02634f",
   "metadata": {},
   "outputs": [
    {
     "data": {
      "text/plain": [
       "JARDIM CAMBURI                 1465\n",
       "MARIA ORTIZ                    1219\n",
       "ITARARÉ                         923\n",
       "RESISTÊNCIA                     905\n",
       "CENTRO                          703\n",
       "                               ... \n",
       "PONTAL DE CAMBURI                12\n",
       "ILHA DO BOI                       3\n",
       "ILHAS OCEÂNICAS DE TRINDADE       2\n",
       "ILHA DO FRADE                     2\n",
       "AEROPORTO                         1\n",
       "Name: neighbourhood, Length: 80, dtype: int64"
      ]
     },
     "execution_count": 49,
     "metadata": {},
     "output_type": "execute_result"
    }
   ],
   "source": [
    "df_no_show['neighbourhood'].value_counts()"
   ]
  },
  {
   "cell_type": "markdown",
   "id": "0d60072a",
   "metadata": {},
   "source": [
    "***Findngs***: Jardim Camburi is the neighbourhood with the highest no show."
   ]
  },
  {
   "cell_type": "markdown",
   "id": "cd3bfc56",
   "metadata": {},
   "source": [
    "<a id='conclusions'></a>\n",
    "## Conclusion:"
   ]
  },
  {
   "cell_type": "markdown",
   "id": "ea30f358",
   "metadata": {},
   "source": [
    "What we can conclude from our analysis :\n",
    "\n",
    "1) People with serious medical conditions do show- up to their appointments with a ratio a lot more than those who don't.If we focus on the percentage that don't show up, we will find that patients who suffer from hypertension are the ones with the highest percentage\n",
    "\n",
    "2) SMS reminders can be very helpful to reduce no shows. Even though most of the patients who showed up did not receive a message reminder. But that could be because it was a same-day appointment.The number of patients who did not receive a message and didn't show up were alot more than those who did receive a message. So it's better for the hospital to send SMS reminders specially for long waiting days. \n",
    "\n",
    "3) Owning a scholarship might have an minor effect on the possibilty of a no-show happening. As most of no-show patients did not own a scholarship. Even though most patients that showed up did not own a scholarship as well.\n",
    "\n",
    "4) Female adults have the highest no-show \n",
    "\n",
    "5) Adults with the age of 25 till 40 have the highest no-show \n",
    "\n",
    "6) Waiting days is a very important factor that the hospital needs to take care of. The percentage of people not showing up after 25 days are alot more than those who do show-up . So it's better to keep the appointment day nearer to the scheduled day.\n",
    "\n",
    "7) Tuesdays and Wednesdays have the highest no-show rates. While Saturday is the least. We do not have enough data to know the hour of the day when no-show tends to happen. \n",
    "\n",
    "8) Jardim Camburi has the highest number of patients that did not show up.\n",
    "\n",
    "**Limitations:** Not having the time of appointment "
   ]
  }
 ],
 "metadata": {
  "kernelspec": {
   "display_name": "Python 3 (ipykernel)",
   "language": "python",
   "name": "python3"
  },
  "language_info": {
   "codemirror_mode": {
    "name": "ipython",
    "version": 3
   },
   "file_extension": ".py",
   "mimetype": "text/x-python",
   "name": "python",
   "nbconvert_exporter": "python",
   "pygments_lexer": "ipython3",
   "version": "3.9.7"
  }
 },
 "nbformat": 4,
 "nbformat_minor": 5
}
